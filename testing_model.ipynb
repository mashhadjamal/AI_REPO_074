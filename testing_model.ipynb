{
  "nbformat": 4,
  "nbformat_minor": 0,
  "metadata": {
    "colab": {
      "provenance": [],
      "authorship_tag": "ABX9TyPn3//2CMZuvKXQ6HYjs7Th",
      "include_colab_link": true
    },
    "kernelspec": {
      "name": "python3",
      "display_name": "Python 3"
    },
    "language_info": {
      "name": "python"
    }
  },
  "cells": [
    {
      "cell_type": "markdown",
      "metadata": {
        "id": "view-in-github",
        "colab_type": "text"
      },
      "source": [
        "<a href=\"https://colab.research.google.com/github/mashhadjamal/AI_REPO_074/blob/main/testing_model.ipynb\" target=\"_parent\"><img src=\"https://colab.research.google.com/assets/colab-badge.svg\" alt=\"Open In Colab\"/></a>"
      ]
    },
    {
      "cell_type": "code",
      "execution_count": 9,
      "metadata": {
        "id": "85A08cwKbVBd"
      },
      "outputs": [],
      "source": [
        "example_text=\"The education department drastically underestimated the cost of the government's income-driven repayment plans for student loans in its original estimates, the government accountability office said in a highly critical report Wednesday. The GAO report finds that estimates of the cost to the government of income-driven repayment plans, which eventually discharge a student's remaining debt after 20 years or more of payments, has jumped from $28 billion to $53 billion for student loans issued from 2009 to 2016. And it found that nearly a third of student loan debt expected to be repaid via income-driven repayments ($108 billion) will be forgiven by the federal government through programs such as Public Service Loan Forgiveness. Observers of federal financial aid policy said those numbers, and the apparent inability of the department to estimate the cost of student loan programs, could provide new ammunition to Republican lawmakers looking to target expensive student aid programs to rein in costs, if not drastically downsize the department itself. The GAO investigated the costs of the income-driven repayment program at the request of Wyoming Republican Mike Enzi, chairman of the Senate Budget Committee. The Obama administration made enrolling student loan borrowers in income-driven repayment plans a major tool for assisting borrowers struggling with student loan debt. The original income-driven repayment program predated the administration, but the Obama Department of Education oversaw the addition of several new, more generous repayment programs. And it ramped up efforts to enroll student borrowers in those programs as total outstanding loan debt ballooned in recent years. On the campaign trail, President-elect Donald Trump spoke favorably about income-driven repayment plans, saying in one speech that 'students should not be asked to pay more on their loans than they can afford.' He proposed, in a speech, a repayment program that would be even more generous than the programs already available to student loan borrowers. Data released by the Department of Education this year indicated that those programs have seen steady increases in enrollment. Almost 4.6 million federal direct borrowers had enrolled in income-driven repayment plans by December 2015, up 48 percent from 2014 and 140 percent from 2013. As of June, 5.3 million borrowers had enrolled in one of those plans. But according to the GAO's report, the cost of each successive loan cohort has been greater than the one that preceded it since 2012. And the fiscal 2017 cohort of student loans is expected to carry a cost five times that of the 2012 cohort. The higher-than-expected costs of income-driven repayment are a result of multiple flaws in the cost estimate methods used by the department, according to the report: the department assumed no existing student borrowers would switch to income-driven plans. Until 2015, the department assumed no borrowers of graduate plus loans, which are uncapped, would switch to income-driven plans. The department's estimates assumed no growth in enrollment, even as the Obama administration was seeking to enroll two million additional borrowers in the plans. The GAO concludes that the department has consistently underestimated the value of subsidies going to income-driven repayment plans in each year. It also reports that the cost estimates used by the Department of Education lack appropriate transparency. Alexander Holt, a policy analyst with the education policy program at New America, said the report showed the department has no business being involved in budgeting the repayment program. 'This is insane incompetence,' he said. 'If you go through the report, there are just basic things that they missed or that they didn't do.' Jason Delisle, a resident fellow who specializes in higher ed finance at the American Enterprise Institute, said the report was a vote of no confidence in the department's abilities to estimate what income-driven repayment will cost taxpayers. 'Really what the GAO is saying is that the Obama administration's expansion of this program has been done without good information about the effects,' Delisle said. Under Secretary of Education Ted Mitchell said income-driven repayment plans are helping millions of borrowers successfully manage loan repayment, particularly those who find standard repayment challenging. 'IDR plans also help keep borrowers from financial strain and reduce default, which can wreak havoc on struggling families' credit ratings and ability to get back on their feet,' Mitchell said in a statement. 'The Department of Education has proposed several common-sense reforms that would reduce costs by about $49 billion over 10 years, and taken action to protect students and taxpayers from colleges that are failing students by leaving them with unaffordable debt and poor employment outcomes, ensuring they either improve or risk losing access to the federal student aid programs.' The Department of Education oversees a $1.3 trillion loan portfolio and $150 billion annually in new loans. Jessica Thompson, the policy and research director at the Institute for College Access and Success, said it was important to put the numbers in the report in that context. Thompson said income-driven repayment programs were designed to be a safety net for students who couldn't repay their loan debt after many years. She also said the GAO report showed important fixes that the Department of Education could make in its cost estimates. Policy experts have criticized the administration's changes to the program for making income-driven plans more generous to graduate student borrowers, who have some of the highest volumes of student loan debt but are best positioned to pay off their student loans. Income-driven plans are the basis for Public Service Loan Forgiveness, which goes into effect next year. And a large proportion of loan debt being repaid through income-driven plans is driven by the Graduate PLUS program or Graduate Stafford loans, Delisle said. It's possible that Republican lawmakers looking to tackle the costs associated with the programs could take steps like capping the amount of loan debt that can be taken out for graduate studies, eliminating Public Service Loan Forgiveness, or otherwise limiting student borrowing. A spokeswoman for Tennessee Republican Senator Lamar Alexander, chairman of the Senate Education Committee, said the GAO report raises concerns about the costs of income-driven repayment programs. 'In the upcoming Higher Education Act reauthorization, Senator Alexander looks forward to working with Senator Enzi and committee Republicans and Democrats on re-evaluating, simplifying, and better targeting these repayment plans to reduce these costs and better protect the taxpayer, while still providing a manageable repayment option for borrowers,' the spokeswoman said.\"\n"
      ]
    },
    {
      "cell_type": "code",
      "source": [
        "from transformers import pipeline\n",
        "\n",
        "prefix = \"summarize: \"\n",
        "\n",
        "summarizer = pipeline(\n",
        "    \"summarization\",\n",
        "    model = \"mashhadjamal/multinews_summary_model_trained_on_reduced_data\",\n",
        "    truncation=True\n",
        ")\n",
        "summary_txt = summarizer(prefix + example_text)\n",
        "\n"
      ],
      "metadata": {
        "id": "sifZPz43b69x"
      },
      "execution_count": 10,
      "outputs": []
    },
    {
      "cell_type": "code",
      "source": [
        "summary_txt"
      ],
      "metadata": {
        "colab": {
          "base_uri": "https://localhost:8080/"
        },
        "id": "u6DPxMF0dgDk",
        "outputId": "49571f46-965f-4958-8c5b-406caae8e094"
      },
      "execution_count": 11,
      "outputs": [
        {
          "output_type": "execute_result",
          "data": {
            "text/plain": [
              "[{'summary_text': 'estimates of the cost to the government of income-driven repayment plans have jumped from $28 billion to $53 billion for student loans issued from 2009 to 2016 . nearly a third of student loan debt expected to be forgiven by the federal government through programs such as Public Service Loan Forgiveness . the administration made enrolling student loan borrowers a major tool for assisting borrowers struggling with student loans debt .'}]"
            ]
          },
          "metadata": {},
          "execution_count": 11
        }
      ]
    },
    {
      "cell_type": "code",
      "source": [],
      "metadata": {
        "id": "1kckhQ_idpd6"
      },
      "execution_count": null,
      "outputs": []
    }
  ]
}