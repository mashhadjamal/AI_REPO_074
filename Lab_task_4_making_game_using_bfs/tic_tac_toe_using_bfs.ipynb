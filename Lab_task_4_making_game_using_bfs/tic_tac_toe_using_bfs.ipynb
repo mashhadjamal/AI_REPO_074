{
  "cells": [
    {
      "cell_type": "markdown",
      "metadata": {
        "id": "view-in-github",
        "colab_type": "text"
      },
      "source": [
        "<a href=\"https://colab.research.google.com/github/mashhadjamal/AI_REPO_074/blob/main/tic_tac_toe_using_bfs.ipynb\" target=\"_parent\"><img src=\"https://colab.research.google.com/assets/colab-badge.svg\" alt=\"Open In Colab\"/></a>"
      ]
    },
    {
      "cell_type": "code",
      "execution_count": 1,
      "metadata": {
        "id": "ziU-wMuTkWqB"
      },
      "outputs": [],
      "source": [
        "from collections import deque"
      ]
    },
    {
      "cell_type": "code",
      "execution_count": 2,
      "metadata": {
        "id": "4EDNwgZMke5M"
      },
      "outputs": [],
      "source": [
        "def create_board():\n",
        "    return [[' ' for _ in range(3)] for _ in range(3)]\n",
        "\n",
        "# Print the board\n",
        "def print_board(board):\n",
        "    for row in board:\n",
        "        print('|'.join(row))\n",
        "        print('-' * 5)\n",
        "\n",
        "# Check if the game is over (win or draw)\n",
        "def check_winner(board):\n",
        "    # Check rows and columns for a winner\n",
        "    for i in range(3):\n",
        "        if board[i][0] == board[i][1] == board[i][2] and board[i][0] != ' ':\n",
        "            return board[i][0]\n",
        "        if board[0][i] == board[1][i] == board[2][i] and board[0][i] != ' ':\n",
        "            return board[0][i]\n",
        "\n",
        "    # Check diagonals for a winner\n",
        "    if board[0][0] == board[1][1] == board[2][2] and board[0][0] != ' ':\n",
        "        return board[0][0]\n",
        "    if board[0][2] == board[1][1] == board[2][0] and board[0][2] != ' ':\n",
        "        return board[0][2]\n",
        "\n",
        "    # Check for draw\n",
        "    for row in board:\n",
        "        if ' ' in row:\n",
        "            return None\n",
        "    return 'Draw'\n",
        "\n",
        "# Find all possible moves\n",
        "def get_possible_moves(board):\n",
        "    moves = []\n",
        "    for i in range(3):\n",
        "        for j in range(3):\n",
        "            if board[i][j] == ' ':\n",
        "                moves.append((i, j))\n",
        "    return moves\n",
        "\n",
        "# Make a move\n",
        "def make_move(board, move, player):\n",
        "    new_board = [row[:] for row in board]\n",
        "    new_board[move[0]][move[1]] = player\n",
        "    return new_board\n",
        "\n",
        "# BFS to explore all game states and find the best move\n",
        "def bfs_search(board, player):\n",
        "    queue = deque([(board, player)])\n",
        "\n",
        "    while queue:\n",
        "        current_board, current_player = queue.popleft()\n",
        "\n",
        "        # Check if there's a winner\n",
        "        winner = check_winner(current_board)\n",
        "        if winner:\n",
        "            return winner\n",
        "\n",
        "        # Get all possible moves and add new states to the queue\n",
        "        possible_moves = get_possible_moves(current_board)\n",
        "        for move in possible_moves:\n",
        "            new_board = make_move(current_board, move, current_player)\n",
        "            next_player = 'O' if current_player == 'X' else 'X'\n",
        "            queue.append((new_board, next_player))\n",
        "\n",
        "    return 'Draw'\n",
        "\n",
        "# Play the game\n",
        "def play_game():\n",
        "    board = create_board()\n",
        "    current_player = 'X'\n",
        "\n",
        "    while True:\n",
        "        print_board(board)\n",
        "        if current_player == 'X':\n",
        "            row = int(input(\"Enter the row (0-2): \"))\n",
        "            col = int(input(\"Enter the column (0-2): \"))\n",
        "            if board[row][col] == ' ':\n",
        "                board[row][col] = current_player\n",
        "            else:\n",
        "                print(\"Invalid move. Try again.\")\n",
        "                continue\n",
        "        else:\n",
        "            print(\"Computer is making a move...\")\n",
        "            moves = get_possible_moves(board)\n",
        "            for move in moves:\n",
        "                new_board = make_move(board, move, current_player)\n",
        "                if check_winner(new_board) == current_player:\n",
        "                    board = new_board\n",
        "                    break\n",
        "            else:\n",
        "                board = make_move(board, moves[0], current_player)\n",
        "\n",
        "        winner = check_winner(board)\n",
        "        if winner:\n",
        "            print_board(board)\n",
        "            if winner == 'Draw':\n",
        "                print(\"It's a draw!\")\n",
        "            else:\n",
        "                print(f\"{winner} wins!\")\n",
        "            break\n",
        "\n",
        "        current_player = 'O' if current_player == 'X' else 'X'"
      ]
    },
    {
      "cell_type": "code",
      "execution_count": 3,
      "metadata": {
        "colab": {
          "base_uri": "https://localhost:8080/"
        },
        "id": "XW41q0EYky8C",
        "outputId": "b1a419dd-a801-4bfb-f4d9-5ae9c76cf53b"
      },
      "outputs": [
        {
          "output_type": "stream",
          "name": "stdout",
          "text": [
            " | | \n",
            "-----\n",
            " | | \n",
            "-----\n",
            " | | \n",
            "-----\n",
            "Enter the row (0-2): 1\n",
            "Enter the column (0-2): 1\n",
            " | | \n",
            "-----\n",
            " |X| \n",
            "-----\n",
            " | | \n",
            "-----\n",
            "Computer is making a move...\n",
            "O| | \n",
            "-----\n",
            " |X| \n",
            "-----\n",
            " | | \n",
            "-----\n",
            "Enter the row (0-2): 0\n",
            "Enter the column (0-2): 1\n",
            "O|X| \n",
            "-----\n",
            " |X| \n",
            "-----\n",
            " | | \n",
            "-----\n",
            "Computer is making a move...\n",
            "O|X|O\n",
            "-----\n",
            " |X| \n",
            "-----\n",
            " | | \n",
            "-----\n",
            "Enter the row (0-2): 2\n",
            "Enter the column (0-2): 1\n",
            "O|X|O\n",
            "-----\n",
            " |X| \n",
            "-----\n",
            " |X| \n",
            "-----\n",
            "X wins!\n"
          ]
        }
      ],
      "source": [
        "play_game()"
      ]
    },
    {
      "cell_type": "code",
      "execution_count": null,
      "metadata": {
        "id": "zAIDtZy3k05B"
      },
      "outputs": [],
      "source": [
        "\n"
      ]
    }
  ],
  "metadata": {
    "colab": {
      "provenance": [],
      "authorship_tag": "ABX9TyNeEpJ945rR2fGrE+60uuA9",
      "include_colab_link": true
    },
    "kernelspec": {
      "display_name": "Python 3",
      "name": "python3"
    },
    "language_info": {
      "name": "python"
    }
  },
  "nbformat": 4,
  "nbformat_minor": 0
}